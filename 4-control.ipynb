{
 "cells": [
  {
   "cell_type": "markdown",
   "metadata": {},
   "source": [
    "# Reinforcement Learning\n",
    "\n",
    "# Online control\n",
    "\n",
    "This notebook presents the **online control** of an agent by SARSA and Q-learning."
   ]
  },
  {
   "cell_type": "code",
   "execution_count": 1,
   "metadata": {},
   "outputs": [],
   "source": [
    "import numpy as np\n",
    "from matplotlib import pyplot as plt"
   ]
  },
  {
   "cell_type": "code",
   "execution_count": 2,
   "metadata": {},
   "outputs": [],
   "source": [
    "from model import TicTacToe, Nim, ConnectFour\n",
    "from agent import Agent, OnlineControl\n",
    "from dp import ValueIteration"
   ]
  },
  {
   "cell_type": "markdown",
   "metadata": {},
   "source": [
    "## Instructions\n",
    "\n",
    "* You can work alone or in a team of 2.\n",
    "* Indicate your name(s) here: XXX, YYY\n",
    "* The script ``dp`` must contain your solution to ``ValueIteration`` (cf. lab on Dynamic Programming).\n",
    "* Do not import any other code / library.\n",
    "* Do not copy-paste any code or text from other students / teams.\n",
    "* Be concise in your answers.\n",
    "* Use at most 5 figures or tables.\n",
    "* Make sure that your notebook runs without errors.\n",
    "* Save your notebook with the figures / table.\n",
    "* Upload your notebook on Moodle (one per team)."
   ]
  },
  {
   "cell_type": "markdown",
   "metadata": {},
   "source": [
    "## To do\n",
    "\n",
    "* Complete the class ``SARSA`` and test it on Tic-Tac-Toe.\n",
    "* Complete the class ``QLearning`` and test it on Tic-Tac-Toe.\n",
    "* Compare these algorithms on Tic-Tac-Toe (play first) and Nim (play second), using a random adversary, then a perfect adversary. Comment your results.\n",
    "* Test these algorithms on Connect 4 against a random adversary. Comment your results."
   ]
  },
  {
   "cell_type": "markdown",
   "metadata": {},
   "source": [
    "connect four - state space is huge, these techniques are not suitable for this game"
   ]
  },
  {
   "cell_type": "markdown",
   "metadata": {},
   "source": [
    "just concise figures and tables explaining the results"
   ]
  },
  {
   "cell_type": "markdown",
   "metadata": {},
   "source": [
    "don't need to play with the initial value"
   ]
  },
  {
   "cell_type": "markdown",
   "metadata": {},
   "source": [
    "test weather a new state is terminal or not\n",
    "if it is terminal, then the reward is the reward of the game\n",
    "if it is not terminal, then the reward is 0"
   ]
  },
  {
   "cell_type": "markdown",
   "metadata": {},
   "source": [
    "## SARSA"
   ]
  },
  {
   "cell_type": "code",
   "execution_count": 3,
   "metadata": {},
   "outputs": [],
   "source": [
    "class SARSA(OnlineControl):\n",
    "    \"\"\"Online control by SARSA.\"\"\"\n",
    "        \n",
    "    def learn(self):\n",
    "        \"\"\"Learn the state-action value online.\"\"\"\n",
    "        self.model.reinit_state()\n",
    "        state = self.model.state\n",
    "        action = self.get_best_action(state, randomized=True) \n",
    "        for t in range(self.n_steps):\n",
    "            state_code = self.model.encode(state)\n",
    "            self.state_action_count[state_code][action] += 1\n",
    "            reward, stop = self.model.step(action)\n",
    "            # to be modified\n",
    "            # begin\n",
    "            gain = 0\n",
    "            # end\n",
    "            diff = gain - self.state_action_value[state_code][action]\n",
    "            count = self.state_action_count[state_code][action]\n",
    "            self.state_action_value[state_code][action] += diff / count\n",
    "            if stop:\n",
    "                break\n",
    "            # to be modified\n",
    "            # begin\n",
    "            state = state\n",
    "            action = action\n",
    "            # end"
   ]
  },
  {
   "cell_type": "code",
   "execution_count": 4,
   "metadata": {},
   "outputs": [],
   "source": [
    "class SARSA(OnlineControl):\n",
    "    \"\"\"Online control by SARSA.\"\"\"\n",
    "        \n",
    "    def learn(self):\n",
    "        \"\"\"Learn the state-action value online.\"\"\"\n",
    "        self.model.reinit_state()\n",
    "        state = self.model.state\n",
    "        action = self.get_best_action(state, randomized=True) \n",
    "        for t in range(self.n_steps):\n",
    "            state_code = self.model.encode(state)\n",
    "            self.state_action_count[state_code][action] += 1\n",
    "            reward, stop = self.model.step(action)\n",
    "            new_state = self.model.state\n",
    "            new_action = self.get_best_action(new_state, randomized=True)\n",
    "\n",
    "            # SARSA update\n",
    "            gain = reward + self.gamma * self.state_action_value[self.model.encode(new_state)][new_action]\n",
    "            diff = gain - self.state_action_value[state_code][action]\n",
    "            count = self.state_action_count[state_code][action]\n",
    "            self.state_action_value[state_code][action] += diff / count\n",
    "\n",
    "            if stop:\n",
    "                break\n",
    "            state, action = new_state, new_action\n"
   ]
  },
  {
   "cell_type": "code",
   "execution_count": 63,
   "metadata": {},
   "outputs": [],
   "source": [
    "class SARSA(OnlineControl):\n",
    "    \"\"\"Online control by SARSA.\"\"\"\n",
    "        \n",
    "    def learn(self):\n",
    "        \"\"\"Learn the state-action value online.\"\"\"\n",
    "        self.model.reinit_state()\n",
    "        state = self.model.state\n",
    "        action = self.get_best_action(state, randomized=True)\n",
    "        for t in range(self.n_steps):\n",
    "            state_code = self.model.encode(state)\n",
    "            self.state_action_count[state_code][action] += 1\n",
    "            reward, stop = self.model.step(action)\n",
    "\n",
    "            # Handle terminal state or state with no actions\n",
    "            if stop:\n",
    "                gain = reward  # No future rewards since it's a terminal state\n",
    "                next_action = None\n",
    "            else:\n",
    "                next_state = self.model.state\n",
    "                next_action = self.get_best_action(next_state, randomized=True)\n",
    "                if next_action is None:  # No valid actions available in next_state\n",
    "                    gain = reward  # Only consider the immediate reward\n",
    "                else:\n",
    "                    next_state_code = self.model.encode(next_state)\n",
    "                    gain = reward + self.gamma * self.state_action_value[next_state_code][next_action]\n",
    "\n",
    "            # Update Q value\n",
    "            diff = gain - self.state_action_value[state_code][action]\n",
    "            count = self.state_action_count[state_code][action]\n",
    "            self.state_action_value[state_code][action] += diff / count\n",
    "\n",
    "            if stop or next_action is None:\n",
    "                break\n",
    "\n",
    "            state = next_state\n",
    "            action = next_action\n"
   ]
  },
  {
   "cell_type": "markdown",
   "metadata": {},
   "source": [
    "## Q-learning"
   ]
  },
  {
   "cell_type": "code",
   "execution_count": 5,
   "metadata": {},
   "outputs": [],
   "source": [
    "class QLearning(OnlineControl):\n",
    "    \"\"\"Online control by Q-learning.\"\"\"\n",
    "        \n",
    "    def learn(self):\n",
    "        \"\"\"Learn the state-action value online.\"\"\"\n",
    "        self.model.reinit_state()\n",
    "        state = self.model.state\n",
    "        action = self.get_best_action(state, randomized=True) \n",
    "        # to be completed"
   ]
  },
  {
   "cell_type": "code",
   "execution_count": 6,
   "metadata": {},
   "outputs": [],
   "source": [
    "class QLearning(OnlineControl):\n",
    "    \"\"\"Online control by Q-learning.\"\"\"\n",
    "        \n",
    "    def learn(self):\n",
    "        \"\"\"Learn the state-action value online.\"\"\"\n",
    "        self.model.reinit_state()\n",
    "        state = self.model.state\n",
    "\n",
    "        for t in range(self.n_steps):\n",
    "            state_code = self.model.encode(state)\n",
    "            action = self.get_best_action(state, randomized=True)\n",
    "            self.state_action_count[state_code][action] += 1\n",
    "            reward, stop = self.model.step(action)\n",
    "            new_state = self.model.state\n",
    "\n",
    "            # Q-Learning update\n",
    "            best_future_action = self.get_best_action(new_state, randomized=False)\n",
    "            gain = reward + self.gamma * self.state_action_value[self.model.encode(new_state)][best_future_action]\n",
    "            diff = gain - self.state_action_value[state_code][action]\n",
    "            count = self.state_action_count[state_code][action]\n",
    "            self.state_action_value[state_code][action] += diff / count\n",
    "\n",
    "            if stop:\n",
    "                break\n",
    "            state = new_state\n"
   ]
  },
  {
   "cell_type": "code",
   "execution_count": 15,
   "metadata": {},
   "outputs": [],
   "source": [
    "class QLearning(OnlineControl):\n",
    "    \"\"\"Online control by Q-learning.\"\"\"\n",
    "        \n",
    "    def learn(self):\n",
    "        \"\"\"Learn the state-action value online.\"\"\"\n",
    "        self.model.reinit_state()\n",
    "        state = self.model.state\n",
    "        for t in range(self.n_steps):\n",
    "            action = self.get_best_action(state, randomized=True)\n",
    "            state_code = self.model.encode(state)\n",
    "            self.state_action_count[state_code][action] += 1\n",
    "            reward, stop = self.model.step(action)\n",
    "            \n",
    "            # Modification starts here\n",
    "            if stop:\n",
    "                gain = reward\n",
    "            else:\n",
    "                next_state = self.model.state\n",
    "                next_state_code = self.model.encode(next_state)\n",
    "                max_next_q = max(self.state_action_value[next_state_code].values())\n",
    "                gain = reward + self.gamma * max_next_q\n",
    "            \n",
    "            # Update Q value\n",
    "            diff = gain - self.state_action_value[state_code][action]\n",
    "            count = self.state_action_count[state_code][action]\n",
    "            self.state_action_value[state_code][action] += diff / count\n",
    "\n",
    "            if stop:\n",
    "                break\n",
    "            \n",
    "            state = next_state\n",
    "            # Modification ends here\n"
   ]
  },
  {
   "cell_type": "code",
   "execution_count": 22,
   "metadata": {},
   "outputs": [],
   "source": [
    "class QLearning(OnlineControl):\n",
    "    \"\"\"Online control by Q-learning.\"\"\"\n",
    "        \n",
    "    def learn(self):\n",
    "        \"\"\"Learn the state-action value online.\"\"\"\n",
    "        self.model.reinit_state()\n",
    "        state = self.model.state\n",
    "        for t in range(self.n_steps):\n",
    "            action = self.get_best_action(state, randomized=True)\n",
    "            state_code = self.model.encode(state)\n",
    "            self.state_action_count[state_code][action] += 1\n",
    "            reward, stop = self.model.step(action)\n",
    "            \n",
    "            # Modification starts here\n",
    "            if stop:\n",
    "                gain = reward\n",
    "            else:\n",
    "                next_state = self.model.state\n",
    "                next_state_code = self.model.encode(next_state)\n",
    "                # Check if next_state_code is in state_action_value and has non-empty values\n",
    "                if next_state_code in self.state_action_value and self.state_action_value[next_state_code]:\n",
    "                    max_next_q = max(self.state_action_value[next_state_code].values())\n",
    "                else:\n",
    "                    max_next_q = 0  # Default value if no actions have been explored for next_state\n",
    "                gain = reward + self.gamma * max_next_q\n",
    "            \n",
    "            # Update Q value\n",
    "            diff = gain - self.state_action_value[state_code][action]\n",
    "            count = self.state_action_count[state_code][action]\n",
    "            self.state_action_value[state_code][action] += diff / count\n",
    "\n",
    "            if stop:\n",
    "                break\n",
    "            \n",
    "            state = next_state\n",
    "            # Modification ends here\n"
   ]
  },
  {
   "cell_type": "markdown",
   "metadata": {},
   "source": [
    "## To do"
   ]
  },
  {
   "cell_type": "code",
   "execution_count": 64,
   "metadata": {},
   "outputs": [],
   "source": [
    "Game = TicTacToe"
   ]
  },
  {
   "cell_type": "code",
   "execution_count": 65,
   "metadata": {},
   "outputs": [],
   "source": [
    "game = Game()\n",
    "agent = Agent(game)"
   ]
  },
  {
   "cell_type": "code",
   "execution_count": 66,
   "metadata": {},
   "outputs": [
    {
     "data": {
      "text/plain": [
       "(array([-1,  0,  1]), array([37, 11, 52]))"
      ]
     },
     "execution_count": 66,
     "metadata": {},
     "output_type": "execute_result"
    }
   ],
   "source": [
    "np.unique(agent.get_gains(), return_counts=True)"
   ]
  },
  {
   "cell_type": "code",
   "execution_count": 67,
   "metadata": {},
   "outputs": [],
   "source": [
    "Control = QLearning\n",
    "Control = SARSA"
   ]
  },
  {
   "cell_type": "code",
   "execution_count": 68,
   "metadata": {},
   "outputs": [],
   "source": [
    "algo = Control(game, eps=0.05)"
   ]
  },
  {
   "cell_type": "code",
   "execution_count": 90,
   "metadata": {},
   "outputs": [],
   "source": [
    "n_games = 100000\n",
    "for i in range(n_games):\n",
    "    algo.learn()"
   ]
  },
  {
   "cell_type": "code",
   "execution_count": 91,
   "metadata": {},
   "outputs": [],
   "source": [
    "policy = algo.get_policy()"
   ]
  },
  {
   "cell_type": "code",
   "execution_count": 92,
   "metadata": {},
   "outputs": [],
   "source": [
    "agent = Agent(game, policy)"
   ]
  },
  {
   "cell_type": "code",
   "execution_count": 93,
   "metadata": {},
   "outputs": [
    {
     "data": {
      "text/plain": [
       "(array([-1,  0,  1]), array([33, 12, 55]))"
      ]
     },
     "execution_count": 93,
     "metadata": {},
     "output_type": "execute_result"
    }
   ],
   "source": [
    "np.unique(agent.get_gains(), return_counts=True)"
   ]
  },
  {
   "cell_type": "code",
   "execution_count": 94,
   "metadata": {},
   "outputs": [],
   "source": [
    "unique, counts = np.unique(agent.get_gains(), return_counts=True)\n",
    "results = dict(zip(unique, counts))"
   ]
  },
  {
   "cell_type": "code",
   "execution_count": 95,
   "metadata": {},
   "outputs": [
    {
     "data": {
      "text/plain": [
       "{-1: 30, 0: 17, 1: 53}"
      ]
     },
     "execution_count": 95,
     "metadata": {},
     "output_type": "execute_result"
    }
   ],
   "source": [
    "results"
   ]
  },
  {
   "cell_type": "code",
   "execution_count": 96,
   "metadata": {},
   "outputs": [
    {
     "name": "stdout",
     "output_type": "stream",
     "text": [
      "0 0 0\n",
      "0 0 0\n",
      "0 0 0\n",
      "1 0 0\n",
      "0 0 0\n",
      "0 0 0\n",
      "-1 -1 -1\n",
      "-1 -1 -1\n",
      "-1 -1 -1\n",
      "Game outcome: Lose\n"
     ]
    },
    {
     "data": {
      "image/png": "[encoded data removed]",
      "text/plain": [
       "<Figure size 640x480 with 1 Axes>"
      ]
     },
     "metadata": {},
     "output_type": "display_data"
    }
   ],
   "source": [
    "# Function to display the Tic-Tac-Toe board\n",
    "def display_board(board):\n",
    "    for row in board:\n",
    "        print(\" \".join(str(int(x)) for x in row))\n",
    "\n",
    "# Play a game and display each move\n",
    "game.reinit_state()\n",
    "state = game.state\n",
    "while not game.is_terminal(state):\n",
    "    display_board(state[1])\n",
    "    action = policy(state)[1][0]  # Select the action from the policy\n",
    "    state = game.get_next_state(state, action)\n",
    "\n",
    "# Show final board and outcome\n",
    "display_board(state[1])\n",
    "outcome = \"Win\" if game.get_reward(state) == 1 else \"Draw\" if game.get_reward(state) == 0 else \"Lose\"\n",
    "print(f\"Game outcome: {outcome}\")\n",
    "\n",
    "# Visualize results\n",
    "plt.bar(results.keys(), results.values())\n",
    "plt.title('Game Outcomes with Learned Policy')\n",
    "plt.xlabel('Outcome')\n",
    "plt.ylabel('Counts')\n",
    "plt.xticks(ticks=np.arange(-1, 2), labels=[\"Lose\", \"Draw\", \"Win\"])\n",
    "plt.show()"
   ]
  },
  {
   "cell_type": "code",
   "execution_count": null,
   "metadata": {},
   "outputs": [],
   "source": []
  }
 ],
 "metadata": {
  "kernelspec": {
   "display_name": "Python 3 (ipykernel)",
   "language": "python",
   "name": "python3"
  },
  "language_info": {
   "codemirror_mode": {
    "name": "ipython",
    "version": 3
   },
   "file_extension": ".py",
   "mimetype": "text/x-python",
   "name": "python",
   "nbconvert_exporter": "python",
   "pygments_lexer": "ipython3",
   "version": "3.10.8"
  }
 },
 "nbformat": 4,
 "nbformat_minor": 4
}
